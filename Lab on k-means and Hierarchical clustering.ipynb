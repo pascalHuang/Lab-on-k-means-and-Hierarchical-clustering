{
 "cells": [
  {
   "cell_type": "code",
   "execution_count": 27,
   "id": "e8db5f79",
   "metadata": {},
   "outputs": [],
   "source": [
    "import pandas as pd\n",
    "import matplotlib.pyplot as plt\n",
    "from sklearn.cluster import KMeans\n",
    "import seaborn as sns\n",
    "from sklearn.preprocessing import StandardScaler\n",
    "from sklearn.decomposition import PCA\n",
    "import bioinfokit\n",
    "from bioinfokit import analys, visuz"
   ]
  },
  {
   "cell_type": "code",
   "execution_count": 2,
   "id": "b4dcf17b",
   "metadata": {
    "scrolled": true
   },
   "outputs": [
    {
     "data": {
      "text/html": [
       "<div>\n",
       "<style scoped>\n",
       "    .dataframe tbody tr th:only-of-type {\n",
       "        vertical-align: middle;\n",
       "    }\n",
       "\n",
       "    .dataframe tbody tr th {\n",
       "        vertical-align: top;\n",
       "    }\n",
       "\n",
       "    .dataframe thead th {\n",
       "        text-align: right;\n",
       "    }\n",
       "</style>\n",
       "<table border=\"1\" class=\"dataframe\">\n",
       "  <thead>\n",
       "    <tr style=\"text-align: right;\">\n",
       "      <th></th>\n",
       "      <th>Team</th>\n",
       "      <th>Points</th>\n",
       "      <th>Wins</th>\n",
       "      <th>Draws</th>\n",
       "      <th>Loses</th>\n",
       "      <th>Goals.scored</th>\n",
       "      <th>Goals.conceded</th>\n",
       "      <th>Difference.goals</th>\n",
       "      <th>Points.per.game</th>\n",
       "      <th>red.cards</th>\n",
       "      <th>...</th>\n",
       "      <th>clean.sheets.percentage</th>\n",
       "      <th>failed.to.score.percentage</th>\n",
       "      <th>shots.per.match.average</th>\n",
       "      <th>shots.on.goal.per.match.average</th>\n",
       "      <th>ball.possession.per.game.average</th>\n",
       "      <th>sum.offside.in.attack</th>\n",
       "      <th>sum.offside.in.defense</th>\n",
       "      <th>corners.per.game.average</th>\n",
       "      <th>fouls.for.sum</th>\n",
       "      <th>fouls.against.sum</th>\n",
       "    </tr>\n",
       "  </thead>\n",
       "  <tbody>\n",
       "    <tr>\n",
       "      <th>0</th>\n",
       "      <td>Paris-SG</td>\n",
       "      <td>93</td>\n",
       "      <td>29</td>\n",
       "      <td>6</td>\n",
       "      <td>3</td>\n",
       "      <td>108</td>\n",
       "      <td>29</td>\n",
       "      <td>79</td>\n",
       "      <td>2.45</td>\n",
       "      <td>6</td>\n",
       "      <td>...</td>\n",
       "      <td>47</td>\n",
       "      <td>8</td>\n",
       "      <td>16.05</td>\n",
       "      <td>6.74</td>\n",
       "      <td>63.34</td>\n",
       "      <td>98</td>\n",
       "      <td>99</td>\n",
       "      <td>6.71</td>\n",
       "      <td>139</td>\n",
       "      <td>105</td>\n",
       "    </tr>\n",
       "    <tr>\n",
       "      <th>1</th>\n",
       "      <td>Monaco</td>\n",
       "      <td>80</td>\n",
       "      <td>24</td>\n",
       "      <td>8</td>\n",
       "      <td>6</td>\n",
       "      <td>85</td>\n",
       "      <td>45</td>\n",
       "      <td>40</td>\n",
       "      <td>2.11</td>\n",
       "      <td>3</td>\n",
       "      <td>...</td>\n",
       "      <td>37</td>\n",
       "      <td>11</td>\n",
       "      <td>15.68</td>\n",
       "      <td>3.18</td>\n",
       "      <td>57.68</td>\n",
       "      <td>93</td>\n",
       "      <td>90</td>\n",
       "      <td>6.39</td>\n",
       "      <td>115</td>\n",
       "      <td>112</td>\n",
       "    </tr>\n",
       "  </tbody>\n",
       "</table>\n",
       "<p>2 rows × 21 columns</p>\n",
       "</div>"
      ],
      "text/plain": [
       "       Team  Points  Wins  Draws  Loses  Goals.scored  Goals.conceded  \\\n",
       "0  Paris-SG      93    29      6      3           108              29   \n",
       "1    Monaco      80    24      8      6            85              45   \n",
       "\n",
       "   Difference.goals  Points.per.game  red.cards  ...  clean.sheets.percentage  \\\n",
       "0                79             2.45          6  ...                       47   \n",
       "1                40             2.11          3  ...                       37   \n",
       "\n",
       "   failed.to.score.percentage  shots.per.match.average  \\\n",
       "0                           8                    16.05   \n",
       "1                          11                    15.68   \n",
       "\n",
       "   shots.on.goal.per.match.average  ball.possession.per.game.average  \\\n",
       "0                             6.74                             63.34   \n",
       "1                             3.18                             57.68   \n",
       "\n",
       "   sum.offside.in.attack  sum.offside.in.defense  corners.per.game.average  \\\n",
       "0                     98                      99                      6.71   \n",
       "1                     93                      90                      6.39   \n",
       "\n",
       "   fouls.for.sum  fouls.against.sum  \n",
       "0            139                105  \n",
       "1            115                112  \n",
       "\n",
       "[2 rows x 21 columns]"
      ]
     },
     "execution_count": 2,
     "metadata": {},
     "output_type": "execute_result"
    }
   ],
   "source": [
    "df = pd.read_csv(\"http://www.mghassany.com/MLcourseEfrei/datasets/ligue1_17_18.csv\", sep=\";\")\n",
    "df[0:2]"
   ]
  },
  {
   "cell_type": "code",
   "execution_count": 3,
   "id": "031271e4",
   "metadata": {},
   "outputs": [
    {
     "data": {
      "text/plain": [
       "Index(['Team', 'Points', 'Wins', 'Draws', 'Loses', 'Goals.scored',\n",
       "       'Goals.conceded', 'Difference.goals', 'Points.per.game', 'red.cards',\n",
       "       'yellow.cards', 'clean.sheets.percentage', 'failed.to.score.percentage',\n",
       "       'shots.per.match.average', 'shots.on.goal.per.match.average',\n",
       "       'ball.possession.per.game.average', 'sum.offside.in.attack',\n",
       "       'sum.offside.in.defense', 'corners.per.game.average', 'fouls.for.sum',\n",
       "       'fouls.against.sum'],\n",
       "      dtype='object')"
      ]
     },
     "execution_count": 3,
     "metadata": {},
     "output_type": "execute_result"
    }
   ],
   "source": [
    "df.columns"
   ]
  },
  {
   "cell_type": "code",
   "execution_count": 4,
   "id": "0f082b3b",
   "metadata": {},
   "outputs": [
    {
     "data": {
      "text/html": [
       "<div>\n",
       "<style scoped>\n",
       "    .dataframe tbody tr th:only-of-type {\n",
       "        vertical-align: middle;\n",
       "    }\n",
       "\n",
       "    .dataframe tbody tr th {\n",
       "        vertical-align: top;\n",
       "    }\n",
       "\n",
       "    .dataframe thead th {\n",
       "        text-align: right;\n",
       "    }\n",
       "</style>\n",
       "<table border=\"1\" class=\"dataframe\">\n",
       "  <thead>\n",
       "    <tr style=\"text-align: right;\">\n",
       "      <th></th>\n",
       "      <th>Points</th>\n",
       "      <th>yellow.cards</th>\n",
       "    </tr>\n",
       "  </thead>\n",
       "  <tbody>\n",
       "    <tr>\n",
       "      <th>0</th>\n",
       "      <td>93</td>\n",
       "      <td>66</td>\n",
       "    </tr>\n",
       "    <tr>\n",
       "      <th>1</th>\n",
       "      <td>80</td>\n",
       "      <td>70</td>\n",
       "    </tr>\n",
       "    <tr>\n",
       "      <th>2</th>\n",
       "      <td>78</td>\n",
       "      <td>70</td>\n",
       "    </tr>\n",
       "    <tr>\n",
       "      <th>3</th>\n",
       "      <td>77</td>\n",
       "      <td>79</td>\n",
       "    </tr>\n",
       "    <tr>\n",
       "      <th>4</th>\n",
       "      <td>58</td>\n",
       "      <td>63</td>\n",
       "    </tr>\n",
       "    <tr>\n",
       "      <th>5</th>\n",
       "      <td>55</td>\n",
       "      <td>73</td>\n",
       "    </tr>\n",
       "    <tr>\n",
       "      <th>6</th>\n",
       "      <td>55</td>\n",
       "      <td>72</td>\n",
       "    </tr>\n",
       "    <tr>\n",
       "      <th>7</th>\n",
       "      <td>54</td>\n",
       "      <td>83</td>\n",
       "    </tr>\n",
       "    <tr>\n",
       "      <th>8</th>\n",
       "      <td>52</td>\n",
       "      <td>63</td>\n",
       "    </tr>\n",
       "    <tr>\n",
       "      <th>9</th>\n",
       "      <td>51</td>\n",
       "      <td>72</td>\n",
       "    </tr>\n",
       "    <tr>\n",
       "      <th>10</th>\n",
       "      <td>48</td>\n",
       "      <td>69</td>\n",
       "    </tr>\n",
       "    <tr>\n",
       "      <th>11</th>\n",
       "      <td>47</td>\n",
       "      <td>65</td>\n",
       "    </tr>\n",
       "    <tr>\n",
       "      <th>12</th>\n",
       "      <td>45</td>\n",
       "      <td>72</td>\n",
       "    </tr>\n",
       "    <tr>\n",
       "      <th>13</th>\n",
       "      <td>41</td>\n",
       "      <td>69</td>\n",
       "    </tr>\n",
       "    <tr>\n",
       "      <th>14</th>\n",
       "      <td>38</td>\n",
       "      <td>72</td>\n",
       "    </tr>\n",
       "    <tr>\n",
       "      <th>15</th>\n",
       "      <td>38</td>\n",
       "      <td>67</td>\n",
       "    </tr>\n",
       "    <tr>\n",
       "      <th>16</th>\n",
       "      <td>38</td>\n",
       "      <td>60</td>\n",
       "    </tr>\n",
       "    <tr>\n",
       "      <th>17</th>\n",
       "      <td>37</td>\n",
       "      <td>90</td>\n",
       "    </tr>\n",
       "    <tr>\n",
       "      <th>18</th>\n",
       "      <td>33</td>\n",
       "      <td>77</td>\n",
       "    </tr>\n",
       "    <tr>\n",
       "      <th>19</th>\n",
       "      <td>26</td>\n",
       "      <td>78</td>\n",
       "    </tr>\n",
       "  </tbody>\n",
       "</table>\n",
       "</div>"
      ],
      "text/plain": [
       "    Points  yellow.cards\n",
       "0       93            66\n",
       "1       80            70\n",
       "2       78            70\n",
       "3       77            79\n",
       "4       58            63\n",
       "5       55            73\n",
       "6       55            72\n",
       "7       54            83\n",
       "8       52            63\n",
       "9       51            72\n",
       "10      48            69\n",
       "11      47            65\n",
       "12      45            72\n",
       "13      41            69\n",
       "14      38            72\n",
       "15      38            67\n",
       "16      38            60\n",
       "17      37            90\n",
       "18      33            77\n",
       "19      26            78"
      ]
     },
     "execution_count": 4,
     "metadata": {},
     "output_type": "execute_result"
    }
   ],
   "source": [
    "pointsCards = df[['Points', 'yellow.cards']]\n",
    "pointsCards"
   ]
  },
  {
   "cell_type": "code",
   "execution_count": 5,
   "id": "5c5599c8",
   "metadata": {},
   "outputs": [
    {
     "name": "stdout",
     "output_type": "stream",
     "text": [
      "[0 0 0 0 1 1 1 1 1 1 1 1 1 1 1 1 1 1 1 1]\n"
     ]
    }
   ],
   "source": [
    "km = KMeans(n_clusters=2, n_init=20)\n",
    "km = km.fit(pointsCards)\n",
    "print(km.labels_)"
   ]
  },
  {
   "cell_type": "code",
   "execution_count": 6,
   "id": "eb8c266c",
   "metadata": {},
   "outputs": [
    {
     "name": "stdout",
     "output_type": "stream",
     "text": [
      "[[82.     71.25  ]\n",
      " [44.75   71.5625]]\n"
     ]
    }
   ],
   "source": [
    "print(km.cluster_centers_)"
   ]
  },
  {
   "cell_type": "code",
   "execution_count": 7,
   "id": "726be22e",
   "metadata": {},
   "outputs": [
    {
     "data": {
      "text/plain": [
       "<matplotlib.legend.Legend at 0x1a356abf820>"
      ]
     },
     "execution_count": 7,
     "metadata": {},
     "output_type": "execute_result"
    },
    {
     "data": {
      "image/png": "[encoded data removed]",
      "text/plain": [
       "<Figure size 432x288 with 1 Axes>"
      ]
     },
     "metadata": {
      "needs_background": "light"
     },
     "output_type": "display_data"
    }
   ],
   "source": [
    "sns.scatterplot(data = pointsCards, x='Points', y='yellow.cards', hue = km.predict(pointsCards))\n",
    "plt.scatter(km.cluster_centers_[:,0], km.cluster_centers_[:,1], \n",
    "            marker=\"X\", c=\"r\", s=80, label=\"centroids\")\n",
    "plt.legend()"
   ]
  },
  {
   "cell_type": "code",
   "execution_count": null,
   "id": "29e26b98",
   "metadata": {},
   "outputs": [],
   "source": []
  },
  {
   "cell_type": "code",
   "execution_count": 8,
   "id": "3386903d",
   "metadata": {},
   "outputs": [
    {
     "name": "stdout",
     "output_type": "stream",
     "text": [
      "[2 2 2 2 0 0 0 0 0 0 0 0 0 1 1 1 1 1 1 1]\n"
     ]
    }
   ],
   "source": [
    "km3 = KMeans(n_clusters=3, n_init=20)\n",
    "km3 = km3.fit(pointsCards)\n",
    "print(km3.labels_)"
   ]
  },
  {
   "cell_type": "code",
   "execution_count": 9,
   "id": "06d926c7",
   "metadata": {},
   "outputs": [
    {
     "name": "stdout",
     "output_type": "stream",
     "text": [
      "[[51.66666667 70.22222222]\n",
      " [35.85714286 73.28571429]\n",
      " [82.         71.25      ]]\n"
     ]
    }
   ],
   "source": [
    "print(km3.cluster_centers_)"
   ]
  },
  {
   "cell_type": "code",
   "execution_count": 10,
   "id": "cf98f92f",
   "metadata": {},
   "outputs": [
    {
     "data": {
      "text/plain": [
       "<matplotlib.legend.Legend at 0x1a356c2b430>"
      ]
     },
     "execution_count": 10,
     "metadata": {},
     "output_type": "execute_result"
    },
    {
     "data": {
      "image/png": "[encoded data removed]",
      "text/plain": [
       "<Figure size 432x288 with 1 Axes>"
      ]
     },
     "metadata": {
      "needs_background": "light"
     },
     "output_type": "display_data"
    }
   ],
   "source": [
    "sns.scatterplot(data = pointsCards, x='Points', y='yellow.cards', hue = km3.predict(pointsCards))\n",
    "\n",
    "plt.scatter(km3.cluster_centers_[:,0], km3.cluster_centers_[:,1], marker=\"X\", c=\"r\", s=80, label=\"centroids\")\n",
    "plt.legend()"
   ]
  },
  {
   "cell_type": "code",
   "execution_count": null,
   "id": "c4e63328",
   "metadata": {},
   "outputs": [],
   "source": []
  },
  {
   "cell_type": "code",
   "execution_count": 11,
   "id": "862a5352",
   "metadata": {},
   "outputs": [
    {
     "name": "stdout",
     "output_type": "stream",
     "text": [
      "[0 0 0 0 2 2 2 2 2 2 2 1 1 1 1 1 1 3 3 3]\n"
     ]
    }
   ],
   "source": [
    "km4 = KMeans(n_clusters=4, n_init=20)\n",
    "km4 = km4.fit(pointsCards)\n",
    "print(km4.labels_)"
   ]
  },
  {
   "cell_type": "code",
   "execution_count": 12,
   "id": "8fdf7bb8",
   "metadata": {},
   "outputs": [
    {
     "name": "stdout",
     "output_type": "stream",
     "text": [
      "[[82.         71.25      ]\n",
      " [41.16666667 67.5       ]\n",
      " [53.28571429 70.71428571]\n",
      " [32.         81.66666667]]\n"
     ]
    }
   ],
   "source": [
    "print(km4.cluster_centers_)"
   ]
  },
  {
   "cell_type": "code",
   "execution_count": 13,
   "id": "91245da6",
   "metadata": {},
   "outputs": [
    {
     "data": {
      "text/plain": [
       "array([53.28571429, 70.71428571])"
      ]
     },
     "execution_count": 13,
     "metadata": {},
     "output_type": "execute_result"
    }
   ],
   "source": [
    "km4.cluster_centers_[2]"
   ]
  },
  {
   "cell_type": "code",
   "execution_count": 14,
   "id": "6b14740f",
   "metadata": {},
   "outputs": [
    {
     "data": {
      "text/plain": [
       "<matplotlib.legend.Legend at 0x1a356ca78e0>"
      ]
     },
     "execution_count": 14,
     "metadata": {},
     "output_type": "execute_result"
    },
    {
     "data": {
      "image/png": "[encoded data removed]",
      "text/plain": [
       "<Figure size 432x288 with 1 Axes>"
      ]
     },
     "metadata": {
      "needs_background": "light"
     },
     "output_type": "display_data"
    }
   ],
   "source": [
    "sns.scatterplot(data = pointsCards, x='Points', y='yellow.cards', hue = km4.predict(pointsCards))\n",
    "plt.scatter(km4.cluster_centers_[:,0], km4.cluster_centers_[:,1],\n",
    "            marker=\"X\", c=\"r\", s=80, label=\"centroids\")\n",
    "\n",
    "\n",
    "plt.legend()"
   ]
  },
  {
   "cell_type": "code",
   "execution_count": null,
   "id": "764d5b4b",
   "metadata": {},
   "outputs": [],
   "source": []
  },
  {
   "cell_type": "code",
   "execution_count": 16,
   "id": "425a5b1d",
   "metadata": {},
   "outputs": [
    {
     "name": "stderr",
     "output_type": "stream",
     "text": [
      "D:\\Anaconda\\lib\\site-packages\\sklearn\\cluster\\_kmeans.py:881: UserWarning: KMeans is known to have a memory leak on Windows with MKL, when there are less chunks than available threads. You can avoid it by setting the environment variable OMP_NUM_THREADS=1.\n",
      "  warnings.warn(\n"
     ]
    },
    {
     "data": {
      "image/png": "[encoded data removed]",
      "text/plain": [
       "<Figure size 432x288 with 1 Axes>"
      ]
     },
     "metadata": {
      "needs_background": "light"
     },
     "output_type": "display_data"
    }
   ],
   "source": [
    "wgss=[]\n",
    "\n",
    "#this loop will fit the k-means algorithm to our data and \n",
    "#second we will compute the within cluster sum of squares and \n",
    "#appended to our wgss list.\n",
    "\n",
    "for i in range(1,11): \n",
    "    kmeans = KMeans(\n",
    "        n_clusters=i,\n",
    "        init ='k-means++',\n",
    "        max_iter=300,\n",
    "        n_init=10,\n",
    "        random_state=0)\n",
    "    \n",
    "#i above is between 1-10 numbers. init parameter is the random #initialization method\n",
    "#we select kmeans++ method. max_iter parameter the maximum number of iterations there can be to \n",
    "#find the final clusters when the K-meands algorithm is running. we #enter the default value of 300\n",
    "#the next parameter is n_init which is the number of times the #Kmeans algorithm will be run with\n",
    "#different initial centroid.\n",
    "    kmeans.fit(pointsCards) #kmeans algorithm fits to the X dataset\n",
    "    wgss.append(kmeans.inertia_)\n",
    "\n",
    "#kmeans inertia_ attribute is:  Sum of squared distances of samples #to their closest cluster center.\n",
    "#4.Plot the elbow graph\n",
    "\n",
    "plt.plot(range(1,11),wgss)\n",
    "plt.title('The Elbow Method Graph')\n",
    "plt.xlabel('Number of clusters')\n",
    "plt.ylabel('WGSS')\n",
    "plt.show()"
   ]
  },
  {
   "cell_type": "code",
   "execution_count": 17,
   "id": "77b2dae5",
   "metadata": {},
   "outputs": [
    {
     "data": {
      "text/plain": [
       "array([2, 4, 4, 4, 1, 1, 1, 1, 1, 1, 1, 3, 3, 3, 3, 3, 3, 0, 0, 0])"
      ]
     },
     "execution_count": 17,
     "metadata": {},
     "output_type": "execute_result"
    }
   ],
   "source": [
    "#5 According to the Elbow graph we deterrmine the clusters number as \n",
    "#5. Applying k-means algorithm to the X dataset.\n",
    "\n",
    "kmeans = KMeans(n_clusters=5,\n",
    "                init ='k-means++',\n",
    "                max_iter=300,\n",
    "                n_init=10,\n",
    "                random_state=0 )\n",
    "\n",
    "# We are going to use the fit predict method that returns for each \n",
    "#observation which cluster it belongs to. The cluster to which \n",
    "#client belongs and it will return this cluster numbers into a \n",
    "#single vector that is  called y K-means\n",
    "y_kmeans = kmeans.fit_predict(pointsCards)\n",
    "y_kmeans"
   ]
  },
  {
   "cell_type": "code",
   "execution_count": 18,
   "id": "251b0c27",
   "metadata": {
    "scrolled": true
   },
   "outputs": [
    {
     "data": {
      "text/plain": [
       "array([[ 2.37845286e+00,  2.51389675e+00, -1.35680105e+00,\n",
       "        -1.93622157e+00,  2.67809310e+00, -1.87563570e+00,\n",
       "         2.78265632e+00,  2.37663716e+00,  8.94736842e-01,\n",
       "        -7.80554197e-01,  1.92185862e+00, -1.56002389e+00,\n",
       "         2.35975132e+00,  2.90066301e+00,  2.58380613e+00,\n",
       "         1.92189533e+00,  8.91620353e-01,  2.53537035e+00,\n",
       "         2.98101197e+00,  1.28451703e-01],\n",
       "       [ 1.62061249e+00,  1.66460731e+00, -6.03022689e-01,\n",
       "        -1.41759079e+00,  1.58499388e+00, -5.50683330e-01,\n",
       "         1.40893991e+00,  1.62565516e+00, -6.84210526e-01,\n",
       "        -2.12878417e-01,  9.36290097e-01, -1.32063403e+00,\n",
       "         2.14685008e+00, -1.14650936e+00,  1.48867788e+00,\n",
       "         1.48805891e+00,  5.44986090e-01,  2.08848601e+00,\n",
       "         9.85355422e-01,  6.01694820e-01],\n",
       "       [ 1.50402166e+00,  1.49474942e+00, -2.26133508e-01,\n",
       "        -1.41759079e+00,  1.68004598e+00, -7.16302377e-01,\n",
       "         1.54983390e+00,  1.49312892e+00, -1.21052632e+00,\n",
       "        -2.12878417e-01,  1.13340380e+00, -1.32063403e+00,\n",
       "         1.49663818e+00,  2.15034453e+00,  1.23521180e+00,\n",
       "         1.14098978e+00,  5.77723771e-03,  1.18075221e+00,\n",
       "         9.02203066e-01,  2.63664022e-01],\n",
       "       [ 1.44572625e+00,  1.32489153e+00,  5.27644853e-01,\n",
       "        -1.59046772e+00,  1.34736361e+00, -3.85064283e-01,\n",
       "         1.16237542e+00,  1.44895351e+00, -6.84210526e-01,\n",
       "         1.06439209e+00,  9.36290097e-01, -1.56002389e+00,\n",
       "         4.83918766e-01, -6.00823202e-01,  1.14233873e+00,\n",
       "         9.67455211e-01, -3.02342107e-01,  6.22146787e-01,\n",
       "         7.35898353e-01, -1.22367149e+00],\n",
       "       [ 3.38113396e-01,  3.05744199e-01,  1.50755672e-01,\n",
       "        -3.80329237e-01, -7.84179879e-02, -6.33492853e-01,\n",
       "         2.11340986e-01,  3.44568213e-01,  3.68421053e-01,\n",
       "        -1.20631103e+00, -1.47835278e-01, -1.16104080e+00,\n",
       "         2.99787963e-01, -1.23347810e-01,  5.03836391e-01,\n",
       "         8.80687927e-01, -7.26006205e-01,  5.94216516e-01,\n",
       "         5.69593641e-01,  9.39725617e-01],\n",
       "       [ 1.63227157e-01,  3.05744199e-01, -9.79911870e-01,\n",
       "         1.38301541e-01,  6.41601719e-02, -3.02254760e-01,\n",
       "         1.76117488e-01,  1.67866565e-01, -1.21052632e+00,\n",
       "         2.12878417e-01, -1.47835278e-01,  7.54078042e-01,\n",
       "         2.24984825e-01,  6.26970664e-01,  3.43243379e-01,\n",
       "         7.07153360e-01, -1.41927473e+00,  3.28878941e-01,\n",
       "         4.86441284e-01,  3.98876341e-01],\n",
       "       [ 1.63227157e-01,  1.35886311e-01,  1.50755672e-01,\n",
       "        -2.07452311e-01, -2.20996148e-01, -1.36635713e-01,\n",
       "        -1.05670493e-01,  1.67866565e-01,  1.94736842e+00,\n",
       "         7.09594724e-02,  6.40619540e-01, -1.23684758e-01,\n",
       "         1.67443949e-01,  6.26970664e-01,  2.05868633e-01,\n",
       "         5.33618793e-01, -9.57095713e-01, -3.42145820e-02,\n",
       "         4.03288928e-01, -4.80003733e-01],\n",
       "       [ 1.04931744e-01,  1.35886311e-01, -2.26133508e-01,\n",
       "        -3.45753852e-02,  6.41601719e-02,  2.89833332e-02,\n",
       "         3.52234977e-02,  1.01603447e-01, -1.57894737e-01,\n",
       "         1.63206787e+00, -1.47835278e-01, -7.62057704e-01,\n",
       "         5.75408759e-04, -1.23347810e-01,  1.96194355e-01,\n",
       "         1.86549659e-01, -9.95610631e-01, -3.42145820e-02,\n",
       "         4.03288928e-01, -1.22367149e+00],\n",
       "       [-1.16590826e-02, -3.39715777e-02,  1.50755672e-01,\n",
       "        -3.45753852e-02, -7.43782734e-01, -8.81921423e-01,\n",
       "        -1.76117488e-01, -8.83508238e-03,  8.94736842e-01,\n",
       "        -1.20631103e+00,  4.43505835e-01, -1.23684758e-01,\n",
       "        -4.54572920e-02,  1.15389886e-01,  1.34278977e-01,\n",
       "         1.30150925e-02, -1.86797353e-01, -1.04040259e-01,\n",
       "         1.53831859e-01,  1.27775642e+00],\n",
       "       [-6.99544958e-02, -5.43545243e-01,  3.16586912e+00,\n",
       "        -8.98960015e-01, -7.43782734e-01, -1.54439761e+00,\n",
       "         1.05670493e-01, -7.50982002e-02, -1.73684211e+00,\n",
       "         7.09594724e-02,  9.36290097e-01,  3.55094951e-01,\n",
       "        -1.66293131e-01, -2.48400889e-01,  1.05256143e-01,\n",
       "         1.30150925e-02, -6.10461451e-01, -1.45935666e-01,\n",
       "         7.06795029e-02,  5.34088660e-01],\n",
       "       [-2.44840735e-01, -2.03829466e-01, -2.26133508e-01,\n",
       "         3.11178467e-01,  1.59212278e-01,  1.76798332e+00,\n",
       "        -6.34022958e-01, -2.51799848e-01,  3.68421053e-01,\n",
       "        -3.54797362e-01, -1.42907436e+00, -7.62057704e-01,\n",
       "        -1.83555394e-01, -7.82718589e-01, -1.24991670e-01,\n",
       "        -7.37521909e-02, -8.41550959e-01, -2.57656750e-01,\n",
       "        -9.56252098e-02,  1.68339337e+00],\n",
       "       [-3.03136148e-01, -3.73687354e-01,  5.27644853e-01,\n",
       "         1.38301541e-01, -1.73470094e-01,  6.08649996e-01,\n",
       "        -3.87458475e-01, -2.95975260e-01, -1.21052632e+00,\n",
       "        -9.22473142e-01,  1.47835278e-01,  1.15705096e-01,\n",
       "        -3.21653496e-01,  3.88232968e-01, -2.95258961e-01,\n",
       "        -7.37521909e-02, -8.80065877e-01, -2.99552156e-01,\n",
       "        -3.45082279e-01, -1.08845917e+00],\n",
       "       [-4.19726975e-01, -3.73687354e-01, -2.26133508e-01,\n",
       "         4.84055393e-01, -6.96256680e-01, -7.99111900e-01,\n",
       "        -1.76117488e-01, -4.28501495e-01,  3.68421053e-01,\n",
       "         7.09594724e-02,  1.47835278e-01,  1.15306113e+00,\n",
       "        -3.61932109e-01, -6.23560125e-01, -5.02288507e-01,\n",
       "        -3.34054041e-01,  2.62479166e+00, -3.27482427e-01,\n",
       "        -4.28234635e-01, -7.43667755e-02],\n",
       "       [-6.52908627e-01, -8.83261020e-01,  1.65831240e+00,\n",
       "         1.38301541e-01, -4.58626414e-01,  2.89833332e-02,\n",
       "        -3.52234977e-01, -6.49378555e-01, -6.84210526e-01,\n",
       "        -3.54797362e-01, -1.13340380e+00,  3.55094951e-01,\n",
       "        -4.25227073e-01, -8.92424245e-02, -6.95774064e-01,\n",
       "        -4.20821325e-01,  3.13896582e-01, -3.69377834e-01,\n",
       "        -5.94539348e-01, -1.83212692e+00],\n",
       "       [-8.27794867e-01, -8.83261020e-01,  5.27644853e-01,\n",
       "         6.56932319e-01, -3.63574308e-01,  1.27112618e+00,\n",
       "        -8.10140447e-01, -8.26080202e-01, -1.57894737e-01,\n",
       "         7.09594724e-02, -1.62618806e+00,  7.54078042e-01,\n",
       "        -5.63325175e-01, -3.96190891e-01, -7.49950020e-01,\n",
       "        -4.20821325e-01, -2.25312271e-01, -4.81098918e-01,\n",
       "        -6.77691704e-01, -4.12397573e-01],\n",
       "       [-8.27794867e-01, -7.13403131e-01, -6.03022689e-01,\n",
       "         1.00268617e+00, -1.17151721e+00,  2.89833332e-02,\n",
       "        -8.80587442e-01, -8.26080202e-01, -1.57894737e-01,\n",
       "        -6.38635252e-01,  6.40619540e-01,  1.55204422e+00,\n",
       "        -5.74833350e-01,  1.15389886e-01, -8.13800254e-01,\n",
       "        -5.07588608e-01,  4.29441336e-01, -6.20750273e-01,\n",
       "        -7.60844060e-01,  8.04513298e-01],\n",
       "       [-8.27794867e-01, -7.13403131e-01, -6.03022689e-01,\n",
       "         1.00268617e+00, -5.06152467e-01,  1.27112618e+00,\n",
       "        -9.15810940e-01, -8.26080202e-01,  8.94736842e-01,\n",
       "        -1.63206787e+00, -1.42907436e+00,  7.54078042e-01,\n",
       "        -5.92095613e-01, -3.39348582e-01, -1.06339662e+00,\n",
       "        -1.02819231e+00, -4.94916697e-01, -7.74366763e-01,\n",
       "        -9.27148773e-01,  3.98876341e-01],\n",
       "       [-8.86090280e-01, -8.83261020e-01,  1.50755672e-01,\n",
       "         8.29809245e-01, -6.48730627e-01,  1.94602380e-01,\n",
       "        -5.63575963e-01, -8.92343320e-01, -6.84210526e-01,\n",
       "         2.62550048e+00,  4.43505835e-01,  3.55094951e-01,\n",
       "        -7.30193715e-01, -6.65055010e-02, -1.08274518e+00,\n",
       "        -1.46202873e+00,  1.97003806e+00, -9.55913525e-01,\n",
       "        -1.01030113e+00, -1.56170229e+00],\n",
       "       [-1.11927193e+00, -8.83261020e-01, -1.35680105e+00,\n",
       "         1.52131695e+00, -9.33886947e-01,  6.08649996e-01,\n",
       "        -9.51034437e-01, -1.11322038e+00,  1.42105263e+00,\n",
       "         7.80554197e-01, -6.40619540e-01,  1.39245099e+00,\n",
       "        -1.59330685e+00, -1.41935245e+00, -1.20270622e+00,\n",
       "        -1.54879601e+00, -1.86797353e-01, -1.29107678e+00,\n",
       "        -1.09345349e+00, -6.15216052e-01],\n",
       "       [-1.52733982e+00, -1.39283468e+00, -6.03022689e-01,\n",
       "         1.69419388e+00, -8.38834840e-01,  2.01641189e+00,\n",
       "        -1.47938690e+00, -1.53288679e+00,  1.42105263e+00,\n",
       "         9.22473142e-01, -1.62618806e+00,  1.15306113e+00,\n",
       "        -1.62207729e+00, -9.64613977e-01, -1.40780092e+00,\n",
       "        -1.98263243e+00,  1.04568002e+00, -1.65417030e+00,\n",
       "        -1.75867234e+00,  1.48057489e+00]])"
      ]
     },
     "execution_count": 18,
     "metadata": {},
     "output_type": "execute_result"
    }
   ],
   "source": [
    "scaler = StandardScaler()\n",
    "ligue1_scaled = scaler.fit_transform(df.loc[:, df.columns != 'Team']) \n",
    "ligue1_scaled"
   ]
  },
  {
   "cell_type": "code",
   "execution_count": 19,
   "id": "3633429f",
   "metadata": {},
   "outputs": [
    {
     "name": "stdout",
     "output_type": "stream",
     "text": [
      "KMeans(n_clusters=3, n_init=20, random_state=300)\n",
      "[1 1 1 1 2 2 2 2 2 2 2 2 0 0 0 0 0 0 0 0]\n"
     ]
    }
   ],
   "source": [
    "km.ligue1 = KMeans(n_clusters=3, n_init=20, random_state=300)\n",
    "\n",
    "km.ligue1 = km.ligue1.fit(df.loc[:, df.columns != 'Team'])\n",
    "\n",
    "print(km.ligue1)\n",
    "print(km.ligue1.labels_)"
   ]
  },
  {
   "cell_type": "code",
   "execution_count": 20,
   "id": "d4b23bdd",
   "metadata": {},
   "outputs": [
    {
     "name": "stdout",
     "output_type": "stream",
     "text": [
      "KMeans(n_clusters=3, n_init=20, random_state=300)\n",
      "[2 2 2 2 1 1 1 1 1 1 1 1 0 0 0 0 0 0 0 0]\n"
     ]
    }
   ],
   "source": [
    "km.ligue1.scaled = KMeans(n_clusters=3, n_init=20, random_state=300)\n",
    "\n",
    "km.ligue1.scaled = km.ligue1.scaled.fit(ligue1_scaled)\n",
    "\n",
    "print(km.ligue1.scaled)\n",
    "print(km.ligue1.scaled.labels_)"
   ]
  },
  {
   "cell_type": "code",
   "execution_count": 39,
   "id": "d9f65d08",
   "metadata": {},
   "outputs": [
    {
     "data": {
      "text/plain": [
       "array([[ 9.03595584e+00, -1.46042334e+00,  1.78337425e+00,\n",
       "         9.13856284e-01, -9.85985862e-01, -1.65971669e-01,\n",
       "        -5.88141496e-01,  4.48434518e-01, -3.57406947e-01,\n",
       "        -2.36813713e-01, -1.29128632e-01, -1.01998469e-01,\n",
       "        -3.29864372e-01,  5.23358889e-03,  1.39655301e-03,\n",
       "         8.11773964e-03, -5.37258725e-05,  1.43498815e-16,\n",
       "        -4.48232513e-18, -2.99577920e-19],\n",
       "       [ 5.24558825e+00, -4.46383574e-01,  3.46470975e-01,\n",
       "        -6.79403394e-01,  2.17285076e+00, -2.43909450e-01,\n",
       "         7.83142997e-02, -1.13383817e+00,  9.46104779e-02,\n",
       "        -6.38809932e-03,  4.42280818e-01, -3.38698769e-01,\n",
       "         5.06603471e-02,  3.64788228e-02,  2.88200947e-02,\n",
       "        -6.93130307e-03, -1.96667296e-04,  1.27167316e-16,\n",
       "         2.00751241e-17,  8.21305097e-19],\n",
       "       [ 5.29877644e+00,  2.04113970e-01,  4.95300648e-02,\n",
       "         6.73161634e-02, -3.73379200e-01, -1.26752743e+00,\n",
       "         2.39720169e-01,  8.44943677e-01,  4.26815849e-01,\n",
       "        -3.33944422e-02, -1.72926719e-01,  3.61259715e-04,\n",
       "         4.16973149e-01,  3.50660472e-02, -3.07400612e-02,\n",
       "        -1.88295985e-02,  1.43365241e-03,  1.01273817e-16,\n",
       "         5.25823754e-17,  4.62967731e-18],\n",
       "       [ 3.85375184e+00,  1.61451910e+00,  2.86364681e-01,\n",
       "        -1.76179830e+00,  6.27687080e-01,  7.52420124e-01,\n",
       "        -9.15828034e-02, -2.14675851e-01,  4.96433346e-01,\n",
       "        -4.23517373e-01, -2.78527148e-01,  4.08784461e-01,\n",
       "         3.06636720e-02, -3.66337642e-02,  5.79070886e-03,\n",
       "         3.37231984e-02, -5.28537979e-04,  1.57758992e-16,\n",
       "        -2.73440206e-17, -8.29976547e-19],\n",
       "       [ 1.59977394e+00, -1.10362040e+00, -1.39071976e+00,\n",
       "         2.40019504e-01,  3.84686777e-01,  6.75287835e-01,\n",
       "        -2.46496239e-01, -7.44180293e-02, -9.66159967e-02,\n",
       "         7.38052356e-01, -3.02254734e-01,  8.66589645e-02,\n",
       "         2.24016027e-02,  1.81526709e-01, -5.72145679e-02,\n",
       "         1.26730869e-02, -5.45991117e-04,  1.44745044e-16,\n",
       "         1.29973727e-17, -6.50034542e-18],\n",
       "       [ 8.72142559e-01, -2.81848726e-01, -6.95758508e-01,\n",
       "        -2.56916509e-01, -8.62941408e-01, -8.91977137e-01,\n",
       "         1.76281013e+00, -5.17165140e-01, -7.73446456e-01,\n",
       "        -6.14945380e-02, -6.23826140e-02,  1.15545910e-01,\n",
       "         9.78060526e-02, -2.32826583e-02,  1.94671766e-02,\n",
       "         2.51544797e-03, -2.37100035e-03,  1.24710080e-16,\n",
       "         2.65015880e-17,  1.26855341e-19],\n",
       "       [ 6.30255354e-01, -6.21156633e-01,  3.00824059e-02,\n",
       "        -3.51949715e-02, -1.34956595e+00,  1.75527602e+00,\n",
       "        -2.42021472e-01,  3.18090482e-01,  9.83708139e-02,\n",
       "        -1.32294590e-01,  7.66483624e-01,  5.97174415e-02,\n",
       "         1.81227391e-01,  5.00116509e-03, -2.48227323e-02,\n",
       "        -1.40890703e-02, -1.06118801e-03,  1.19696024e-16,\n",
       "         3.33070614e-17,  7.02940396e-19],\n",
       "       [ 3.97094210e-01,  9.72937450e-01,  3.74720535e-01,\n",
       "        -1.79906558e+00, -7.06339900e-01,  6.69740007e-01,\n",
       "         5.79032111e-01,  4.49646652e-02, -3.43987061e-01,\n",
       "         4.74877054e-01, -4.79206322e-02, -9.65887729e-02,\n",
       "        -2.64786793e-02, -7.75272276e-02,  3.94380889e-02,\n",
       "        -2.40664495e-02,  2.47426668e-03,  1.85230901e-16,\n",
       "        -5.86018767e-17, -5.89139729e-18],\n",
       "       [ 1.36130928e-01, -1.13010887e+00, -7.91328462e-01,\n",
       "         1.56968673e+00,  1.56978537e-01,  9.54920616e-01,\n",
       "         6.41138590e-02,  1.60978901e-01,  2.25733837e-01,\n",
       "         3.10036314e-01, -2.43193340e-01, -4.84217084e-02,\n",
       "         8.30506980e-02, -9.33383174e-02,  1.16646358e-01,\n",
       "         2.34445910e-02,  1.50273125e-04,  7.86343384e-17,\n",
       "         8.35544978e-17,  7.15370936e-18],\n",
       "       [ 3.13183429e-01,  2.86650020e+00, -2.39288542e+00,\n",
       "         1.62327051e+00,  8.62245725e-01,  6.66568454e-01,\n",
       "         5.48362170e-01,  6.30706018e-01, -2.23800618e-01,\n",
       "        -4.69645440e-01, -7.17788262e-02, -2.08745755e-01,\n",
       "        -1.12392317e-01, -1.31072315e-02, -3.45708429e-02,\n",
       "        -1.02879818e-02,  2.91770100e-04,  1.34288634e-16,\n",
       "         1.99233607e-17, -3.00301568e-18],\n",
       "       [-1.21454974e+00, -2.00196713e+00, -1.22963986e+00,\n",
       "        -1.45872323e+00,  1.06163247e+00, -2.56882418e-01,\n",
       "         3.21780458e-02,  7.65582604e-01, -2.74290205e-02,\n",
       "         1.90180128e-01,  6.81553589e-02,  1.28583532e-01,\n",
       "        -2.42372736e-01, -1.08758738e-01, -5.86336362e-02,\n",
       "        -1.77216993e-02, -3.00286749e-04,  1.06072733e-16,\n",
       "         2.21708333e-17,  1.16294671e-17],\n",
       "       [-7.23872055e-01,  9.13312871e-01, -1.31682790e+00,\n",
       "        -2.42363804e-01, -1.05862902e+00, -8.55446347e-01,\n",
       "        -2.37293696e-01, -4.44013986e-01,  8.11889755e-01,\n",
       "         3.79350274e-02,  8.36224996e-02,  1.14569685e-01,\n",
       "        -2.98251354e-01,  5.82630083e-02,  5.30434989e-02,\n",
       "        -3.25375535e-02, -3.60898483e-04,  9.60454694e-17,\n",
       "         8.86970297e-17, -3.93863761e-18],\n",
       "       [-1.51263946e+00,  4.26569634e-01,  1.87787907e+00,\n",
       "         1.86973734e+00,  9.55559803e-01, -6.56716585e-02,\n",
       "        -5.80532078e-01, -6.57224364e-01, -3.76207195e-01,\n",
       "         9.30079962e-02, -3.27293790e-02,  3.98653619e-01,\n",
       "         5.69066944e-02, -8.29349892e-02, -2.25099444e-02,\n",
       "        -3.54851161e-02,  4.14516585e-04,  1.11049996e-16,\n",
       "         6.14716995e-17, -3.49498921e-18],\n",
       "       [-1.87315662e+00,  1.95364377e+00, -7.90964325e-01,\n",
       "        -5.97136111e-02, -5.13443247e-01, -4.13169012e-01,\n",
       "        -1.68286428e+00, -3.17541416e-01, -4.24410267e-01,\n",
       "         6.32843215e-02, -9.31975516e-02, -7.56594567e-02,\n",
       "         9.86183832e-02,  3.86104096e-02,  2.64174167e-02,\n",
       "        -7.68946644e-03, -8.93543446e-04,  1.71031610e-16,\n",
       "        -9.01193702e-17,  1.17882730e-17],\n",
       "       [-2.84371587e+00,  1.27684642e-01, -6.54016650e-01,\n",
       "        -8.40104718e-01, -1.39409844e-01, -6.66287279e-01,\n",
       "        -6.23497585e-01,  3.00046453e-02, -6.20673239e-01,\n",
       "        -1.81834266e-01,  3.35307972e-01,  7.92448560e-02,\n",
       "        -1.23596412e-02,  3.80708273e-02,  2.69773884e-03,\n",
       "         4.82516575e-02,  2.10204022e-03,  7.00346840e-17,\n",
       "         1.25662961e-16, -1.47531443e-18],\n",
       "       [-2.51914199e+00, -4.92034576e-01,  1.18580979e-01,\n",
       "         1.82689094e+00, -2.48869543e-01, -5.30770079e-01,\n",
       "         9.39528648e-01, -4.16127260e-01,  4.61997873e-01,\n",
       "         6.77614161e-02,  3.50327548e-01,  1.28223304e-01,\n",
       "        -8.69280462e-02,  2.39192246e-02, -2.33309421e-02,\n",
       "         2.69630279e-02,  1.39904573e-03,  2.02705025e-16,\n",
       "        -1.22274278e-16,  4.72569334e-18],\n",
       "       [-3.24822132e+00, -1.94837812e+00, -7.99668940e-01,\n",
       "        -3.99847601e-02, -4.66391422e-01, -5.17404056e-01,\n",
       "        -7.80665861e-01, -3.99566671e-01,  3.34676033e-01,\n",
       "        -1.91511006e-01, -1.97157760e-01, -2.72516832e-01,\n",
       "         1.32247569e-01, -1.56786151e-01, -4.30719864e-02,\n",
       "         1.11623298e-02, -5.64285224e-04,  1.68820085e-16,\n",
       "        -1.49583653e-17, -1.07580736e-17],\n",
       "       [-2.91079441e+00,  2.69404021e+00,  2.63021729e+00,\n",
       "        -1.31337554e-01,  6.37412258e-02, -3.47702990e-01,\n",
       "         2.28283719e-01,  6.45372162e-01,  2.68060712e-01,\n",
       "         4.93649643e-01,  8.10149757e-02, -2.18016215e-01,\n",
       "        -6.06052399e-02, -3.14572602e-02, -3.07884497e-02,\n",
       "         2.51174875e-02, -1.61011080e-03,  1.03273896e-16,\n",
       "         6.28749164e-17,  2.89948525e-19],\n",
       "       [-4.56444981e+00, -6.98087374e-01,  1.38439013e+00,\n",
       "        -5.33178607e-01, -5.62997171e-01,  9.40303025e-01,\n",
       "         5.20381197e-01, -9.09127184e-01,  7.79447381e-02,\n",
       "        -3.76348684e-01, -4.58581508e-01, -1.92107059e-01,\n",
       "        -4.39647456e-02,  8.52638226e-02, -4.32304023e-02,\n",
       "        -1.07509335e-02,  7.81924512e-04,  8.20990765e-17,\n",
       "         7.21628899e-17,  8.86917538e-18],\n",
       "       [-5.97211149e+00, -1.58931311e+00,  1.18019944e+00,\n",
       "        -2.72992437e-01,  9.82570188e-01, -1.91796559e-01,\n",
       "         8.03711663e-02,  1.19462040e+00, -5.25566346e-02,\n",
       "        -3.55542105e-01, -3.74139526e-02,  3.24100051e-02,\n",
       "         4.26615711e-02,  1.16392712e-01,  7.51959305e-02,\n",
       "        -1.35793945e-02, -5.61254053e-04,  1.72496976e-16,\n",
       "        -3.87056578e-17, -5.25389914e-18]])"
      ]
     },
     "execution_count": 39,
     "metadata": {},
     "output_type": "execute_result"
    }
   ],
   "source": [
    "pca = PCA(n_components=20)\n",
    "#PCA is affected by scal so it's important to scale our data before applying the PCA \n",
    "\n",
    "pca_ligue1 = pca.fit_transform(ligue1_scaled)\n",
    "pca_ligue1"
   ]
  },
  {
   "cell_type": "code",
   "execution_count": 38,
   "id": "35f3c357",
   "metadata": {},
   "outputs": [
    {
     "data": {
      "text/plain": [
       "array([6.34593137e-01, 1.00676575e-01, 7.75083765e-02, 5.74316446e-02,\n",
       "       3.80442505e-02, 2.85129591e-02, 2.43037159e-02, 1.84162404e-02,\n",
       "       7.93715476e-03, 4.95284798e-03, 3.95698226e-03, 1.87170761e-03,\n",
       "       1.35653144e-03, 3.10863203e-04, 1.01926703e-04, 2.50190962e-05,\n",
       "       6.76392623e-08, 9.12453282e-34, 1.96531452e-34, 1.77271092e-36])"
      ]
     },
     "execution_count": 38,
     "metadata": {},
     "output_type": "execute_result"
    }
   ],
   "source": [
    "pca_ligue1.explained_variance_ratio_"
   ]
  },
  {
   "cell_type": "code",
   "execution_count": 34,
   "id": "1dc2fee8",
   "metadata": {},
   "outputs": [],
   "source": [
    "pca_df = pd.DataFrame(data=ligue1_scaled, \n",
    "  columns=['Points', 'Wins', 'Draws', 'Loses', 'Goals.scored',\n",
    "       'Goals.conceded', 'Difference.goals', 'Points.per.game', 'red.cards',\n",
    "       'yellow.cards', 'clean.sheets.percentage', 'failed.to.score.percentage',\n",
    "       'shots.per.match.average', 'shots.on.goal.per.match.average',\n",
    "       'ball.possession.per.game.average', 'sum.offside.in.attack',\n",
    "       'sum.offside.in.defense', 'corners.per.game.average', 'fouls.for.sum',\n",
    "       'fouls.against.sum'])"
   ]
  },
  {
   "cell_type": "code",
   "execution_count": 48,
   "id": "39f1688f",
   "metadata": {},
   "outputs": [],
   "source": [
    "from pca import pca"
   ]
  },
  {
   "cell_type": "code",
   "execution_count": 62,
   "id": "8bf8f2b1",
   "metadata": {},
   "outputs": [],
   "source": [
    "labels = ['Points', 'Wins', 'Draws', 'Loses', 'Goals.scored',\n",
    "       'Goals.conceded', 'Difference.goals', 'Points.per.game', 'red.cards',\n",
    "       'yellow.cards', 'clean.sheets.percentage', 'failed.to.score.percentage',\n",
    "       'shots.per.match.average', 'shots.on.goal.per.match.average',\n",
    "       'ball.possession.per.game.average', 'sum.offside.in.attack',\n",
    "       'sum.offside.in.defense', 'corners.per.game.average', 'fouls.for.sum',\n",
    "       'fouls.against.sum']"
   ]
  },
  {
   "cell_type": "code",
   "execution_count": 66,
   "id": "8c427b35",
   "metadata": {
    "scrolled": false
   },
   "outputs": [
    {
     "name": "stdout",
     "output_type": "stream",
     "text": [
      "[pca] >Row labels are auto-completed.\n",
      "[pca] >The PCA reduction is performed on the [20] columns of the input dataframe.\n",
      "[pca] >Fit using PCA.\n",
      "[pca] >Compute loadings and PCs.\n",
      "[pca] >Compute explained variance.\n",
      "[pca] >Outlier detection using Hotelling T2 test with alpha=[0.05] and n_components=[20]\n",
      "[pca] >Outlier detection using SPE/DmodX with n_std=[2]\n"
     ]
    },
    {
     "data": {
      "image/png": "[encoded data removed]",
      "text/plain": [
       "<Figure size 1080x720 with 1 Axes>"
      ]
     },
     "metadata": {
      "needs_background": "light"
     },
     "output_type": "display_data"
    },
    {
     "name": "stdout",
     "output_type": "stream",
     "text": [
      "[pca] >Plot PC1 vs PC2 with loadings.\n"
     ]
    },
    {
     "data": {
      "text/plain": [
       "<Figure size 432x288 with 0 Axes>"
      ]
     },
     "metadata": {},
     "output_type": "display_data"
    },
    {
     "data": {
      "image/png": "[encoded data removed]",
      "text/plain": [
       "<Figure size 1440x1080 with 1 Axes>"
      ]
     },
     "metadata": {
      "needs_background": "light"
     },
     "output_type": "display_data"
    },
    {
     "data": {
      "image/png": "[encoded data removed]",
      "text/plain": [
       "<Figure size 1080x720 with 1 Axes>"
      ]
     },
     "metadata": {
      "needs_background": "light"
     },
     "output_type": "display_data"
    }
   ],
   "source": [
    "pca_ligue1 = pca(n_components=20)\n",
    "\n",
    "\n",
    "results = pca_ligue1.fit_transform(ligue1_scaled, col_labels=labels)\n",
    "\n",
    "# Plot explained variance\n",
    "fig, ax = pca_ligue1.plot()\n",
    "\n",
    "# Scatter first 2 PCs\n",
    "fig, ax = pca_ligue1.scatter(gradient='#FFFFFF')\n",
    "\n",
    "# Make biplot with the number of features\n",
    "fig, ax = pca_ligue1.biplot(n_feat=9, SPE=True, hotellingt2=True)"
   ]
  },
  {
   "cell_type": "code",
   "execution_count": 71,
   "id": "f98fbe7e",
   "metadata": {},
   "outputs": [
    {
     "data": {
      "text/plain": [
       "{'loadings':         Points      Wins     Draws     Loses  Goals.scored  Goals.conceded  \\\n",
       " PC1   0.278329  0.273714 -0.022545 -0.268237      0.254985       -0.203708   \n",
       " PC2  -0.016559 -0.089520  0.488837 -0.133116     -0.075497       -0.223924   \n",
       " PC3   0.025149  0.092616 -0.453906  0.113942      0.124077       -0.025777   \n",
       " PC4  -0.070924 -0.090580  0.144419  0.025946     -0.255740       -0.474976   \n",
       " PC5   0.061137  0.032438  0.179329 -0.115272      0.038934        0.047142   \n",
       " PC6   0.031605 -0.000963  0.210739 -0.095685     -0.230685       -0.308879   \n",
       " PC7   0.002710  0.056330 -0.357440  0.106625     -0.140118       -0.124827   \n",
       " PC8  -0.028180 -0.081576  0.360830 -0.082485      0.103137        0.190666   \n",
       " PC9   0.095245  0.105326 -0.085336 -0.068055      0.036297        0.288826   \n",
       " PC10 -0.150289 -0.112027 -0.225931  0.217652     -0.409579       -0.184856   \n",
       " PC11 -0.069961 -0.096593  0.190664  0.010853     -0.121727        0.442965   \n",
       " PC12  0.122060  0.123849 -0.035271 -0.109872     -0.101265        0.166716   \n",
       " PC13  0.180948  0.182530 -0.045165 -0.165057     -0.118663       -0.265277   \n",
       " PC14 -0.198518 -0.197950  0.034213  0.185775      0.257402       -0.067656   \n",
       " PC15  0.028766  0.032399 -0.029691 -0.019356     -0.276559        0.034674   \n",
       " PC16  0.195606  0.188650  0.008871 -0.196072     -0.307727        0.100865   \n",
       " PC17  0.305555  0.303110 -0.042208 -0.289137     -0.018754        0.005678   \n",
       " PC18  0.760682 -0.629319 -0.048307  0.151194      0.006346       -0.003642   \n",
       " PC19  0.256852  0.450421  0.282455  0.702393     -0.223972        0.128542   \n",
       " PC20 -0.101940 -0.202863 -0.122962 -0.302445     -0.516977        0.296703   \n",
       " \n",
       "       Difference.goals  Points.per.game     red.cards  yellow.cards  \\\n",
       " PC1           0.275628     2.783230e-01 -7.156964e-02 -5.806518e-02   \n",
       " PC2           0.039293    -1.709755e-02 -4.860555e-01  3.740217e-01   \n",
       " PC3           0.102923     2.381417e-02  2.731293e-01  4.541222e-01   \n",
       " PC4           0.012494    -7.165093e-02  3.677660e-02 -3.829963e-01   \n",
       " PC5           0.008803     5.939713e-02 -1.617278e-01  9.361138e-02   \n",
       " PC6          -0.039586     3.348793e-02  6.665946e-01  1.896618e-01   \n",
       " PC7          -0.050751     2.418434e-03 -3.398753e-01  4.452830e-01   \n",
       " PC8          -0.004662    -3.390054e-02  1.388585e-01  3.556605e-01   \n",
       " PC9          -0.095953     9.664758e-02 -5.278464e-02 -3.083051e-01   \n",
       " PC10         -0.224926    -1.505872e-01 -1.446194e-01  4.961782e-03   \n",
       " PC11         -0.278634    -6.841117e-02  1.793296e-01  1.480167e-01   \n",
       " PC12         -0.145965     1.200479e-01 -5.857708e-02 -3.088859e-02   \n",
       " PC13          0.024891     1.774163e-01  1.101760e-01  1.119366e-01   \n",
       " PC14          0.219549    -1.762764e-01  7.304016e-02  2.531585e-02   \n",
       " PC15         -0.219718     5.234546e-02 -2.425780e-02 -2.057283e-02   \n",
       " PC16         -0.270973     2.622997e-01 -4.430077e-03  5.275599e-02   \n",
       " PC17         -0.016314    -8.517855e-01  1.248689e-03  4.835080e-04   \n",
       " PC18         -0.008562     4.996004e-16 -9.020562e-17 -7.632783e-17   \n",
       " PC19          0.302200    -5.426215e-15  3.816392e-17  2.029626e-16   \n",
       " PC20          0.697542    -2.256528e-14  7.112366e-17 -4.163336e-17   \n",
       " \n",
       "       clean.sheets.percentage  failed.to.score.percentage  \\\n",
       " PC1              2.156888e-01               -2.358446e-01   \n",
       " PC2              1.911298e-01                1.176307e-02   \n",
       " PC3              1.656719e-01                7.343095e-02   \n",
       " PC4              3.361671e-01                3.352936e-01   \n",
       " PC5             -6.138071e-02               -1.581276e-01   \n",
       " PC6              2.247264e-01               -1.632326e-01   \n",
       " PC7              3.410069e-01                2.067663e-01   \n",
       " PC8             -2.877745e-02               -3.048203e-01   \n",
       " PC9              6.455092e-01               -3.336011e-01   \n",
       " PC10            -6.351516e-02               -6.648441e-01   \n",
       " PC11             2.864050e-01                2.604950e-01   \n",
       " PC12            -4.008763e-02                6.227168e-02   \n",
       " PC13            -2.674524e-01                3.185003e-02   \n",
       " PC14             1.198112e-01               -9.164140e-02   \n",
       " PC15            -1.029524e-01                4.684055e-02   \n",
       " PC16            -6.535129e-02                4.948988e-02   \n",
       " PC17            -1.471326e-03                3.082456e-03   \n",
       " PC18            -0.000000e+00               -8.326673e-17   \n",
       " PC19            -4.163336e-17               -4.163336e-16   \n",
       " PC20             1.769418e-16                2.151057e-16   \n",
       " \n",
       "       shots.per.match.average  shots.on.goal.per.match.average  \\\n",
       " PC1              2.716738e-01                     1.814535e-01   \n",
       " PC2             -5.126821e-02                    -3.149323e-02   \n",
       " PC3              2.242293e-03                     4.960570e-02   \n",
       " PC4              6.155113e-03                     2.565328e-01   \n",
       " PC5              9.198861e-02                    -6.462833e-01   \n",
       " PC6             -1.517761e-01                    -3.385220e-01   \n",
       " PC7             -5.899661e-02                    -2.651006e-02   \n",
       " PC8             -7.320913e-02                     5.599235e-01   \n",
       " PC9             -6.590850e-02                    -3.020786e-02   \n",
       " PC10             1.550487e-01                     8.871521e-02   \n",
       " PC11             4.855941e-01                     3.297117e-02   \n",
       " PC12            -5.175551e-01                     5.180684e-02   \n",
       " PC13             2.669425e-01                     1.495652e-01   \n",
       " PC14            -3.812526e-01                     3.751189e-02   \n",
       " PC15             7.112863e-02                     5.402058e-02   \n",
       " PC16            -3.588748e-01                     1.097367e-01   \n",
       " PC17            -2.593501e-02                     5.038072e-03   \n",
       " PC18             3.608225e-16                    -1.387779e-16   \n",
       " PC19            -2.220446e-16                     2.844947e-16   \n",
       " PC20            -1.103284e-15                     1.249001e-16   \n",
       " \n",
       "       ball.possession.per.game.average  sum.offside.in.attack  \\\n",
       " PC1                       2.780608e-01           2.671210e-01   \n",
       " PC2                      -4.563355e-02          -3.392884e-02   \n",
       " PC3                      -1.568724e-02          -1.546476e-01   \n",
       " PC4                      -3.550029e-02          -2.668682e-02   \n",
       " PC5                       4.080639e-02          -1.305221e-02   \n",
       " PC6                       7.274533e-02           3.843191e-02   \n",
       " PC7                       4.885232e-02           4.050561e-02   \n",
       " PC8                       3.486777e-02          -1.733417e-01   \n",
       " PC9                      -1.169768e-01          -2.211017e-01   \n",
       " PC10                     -8.062619e-02           2.223601e-01   \n",
       " PC11                     -2.202289e-02           3.901913e-01   \n",
       " PC12                      1.306929e-01           6.396731e-01   \n",
       " PC13                     -2.424245e-01           1.694644e-01   \n",
       " PC14                      1.786691e-01           2.455288e-01   \n",
       " PC15                      8.459867e-01          -2.612926e-01   \n",
       " PC16                     -2.536892e-01          -2.286837e-01   \n",
       " PC17                      6.344908e-03          -1.407692e-02   \n",
       " PC18                     -1.221245e-15           5.551115e-17   \n",
       " PC19                      7.632783e-16           3.191891e-16   \n",
       " PC20                      6.383782e-16          -1.061651e-15   \n",
       " \n",
       "       sum.offside.in.defense  corners.per.game.average  fouls.for.sum  \\\n",
       " PC1            -2.636693e-02              2.733249e-01   2.715600e-01   \n",
       " PC2             1.085129e-01             -5.865546e-02  -6.340208e-02   \n",
       " PC3             5.974235e-01             -5.189077e-03  -8.363090e-03   \n",
       " PC4             3.738141e-01              1.171065e-03   1.381469e-02   \n",
       " PC5             4.137662e-01              9.228437e-02  -1.260738e-01   \n",
       " PC6            -2.532228e-01             -1.006141e-01   1.215939e-01   \n",
       " PC7            -4.084319e-01             -6.107112e-02   1.983962e-02   \n",
       " PC8             6.785618e-02             -1.764993e-01   2.766431e-02   \n",
       " PC9            -2.677782e-02             -2.089532e-01  -3.471449e-01   \n",
       " PC10            1.280684e-01              1.049298e-01   8.463258e-02   \n",
       " PC11            3.345488e-02              2.418787e-01  -3.592608e-02   \n",
       " PC12            2.342938e-01             -3.457964e-01   3.874218e-02   \n",
       " PC13           -7.782882e-02             -1.341828e-01  -6.962632e-01   \n",
       " PC14           -5.869589e-02              4.949947e-01  -4.677828e-01   \n",
       " PC15            3.314871e-02              1.938651e-03  -2.308516e-01   \n",
       " PC16            1.992238e-02              6.085882e-01   5.194120e-02   \n",
       " PC17           -1.735881e-03              4.629382e-02  -8.858872e-03   \n",
       " PC18           -3.816392e-17             -1.942890e-16   1.942890e-16   \n",
       " PC19           -1.214306e-16              8.743006e-16  -1.457168e-15   \n",
       " PC20           -4.813858e-17              1.908196e-15  -2.498002e-16   \n",
       " \n",
       "       fouls.against.sum  \n",
       " PC1        4.145037e-03  \n",
       " PC2       -4.883159e-01  \n",
       " PC3       -2.173731e-01  \n",
       " PC4        2.961804e-01  \n",
       " PC5        5.051096e-01  \n",
       " PC6       -5.678443e-02  \n",
       " PC7        4.097686e-01  \n",
       " PC8        4.256862e-01  \n",
       " PC9       -7.817532e-02  \n",
       " PC10      -4.277942e-02  \n",
       " PC11      -3.821220e-02  \n",
       " PC12      -5.577989e-03  \n",
       " PC13       3.055458e-02  \n",
       " PC14       2.515740e-02  \n",
       " PC15      -8.954434e-02  \n",
       " PC16       6.658253e-03  \n",
       " PC17      -3.942876e-03  \n",
       " PC18       1.908196e-17  \n",
       " PC19       9.107298e-18  \n",
       " PC20      -3.213575e-16  ,\n",
       " 'PC':           PC1       PC2       PC3       PC4       PC5       PC6       PC7  \\\n",
       " 1.0  9.035956 -1.460423  1.783374  0.913856 -0.985986 -0.165972 -0.588141   \n",
       " 1.0  5.245588 -0.446384  0.346471 -0.679403  2.172851 -0.243909  0.078314   \n",
       " 1.0  5.298776  0.204114  0.049530  0.067316 -0.373379 -1.267527  0.239720   \n",
       " 1.0  3.853752  1.614519  0.286365 -1.761798  0.627687  0.752420 -0.091583   \n",
       " 1.0  1.599774 -1.103620 -1.390720  0.240020  0.384687  0.675288 -0.246496   \n",
       " 1.0  0.872143 -0.281849 -0.695759 -0.256917 -0.862941 -0.891977  1.762810   \n",
       " 1.0  0.630255 -0.621157  0.030082 -0.035195 -1.349566  1.755276 -0.242021   \n",
       " 1.0  0.397094  0.972937  0.374721 -1.799066 -0.706340  0.669740  0.579032   \n",
       " 1.0  0.136131 -1.130109 -0.791328  1.569687  0.156979  0.954921  0.064114   \n",
       " 1.0  0.313183  2.866500 -2.392885  1.623271  0.862246  0.666568  0.548362   \n",
       " 1.0 -1.214550 -2.001967 -1.229640 -1.458723  1.061632 -0.256882  0.032178   \n",
       " 1.0 -0.723872  0.913313 -1.316828 -0.242364 -1.058629 -0.855446 -0.237294   \n",
       " 1.0 -1.512639  0.426570  1.877879  1.869737  0.955560 -0.065672 -0.580532   \n",
       " 1.0 -1.873157  1.953644 -0.790964 -0.059714 -0.513443 -0.413169 -1.682864   \n",
       " 1.0 -2.843716  0.127685 -0.654017 -0.840105 -0.139410 -0.666287 -0.623498   \n",
       " 1.0 -2.519142 -0.492035  0.118581  1.826891 -0.248870 -0.530770  0.939529   \n",
       " 1.0 -3.248221 -1.948378 -0.799669 -0.039985 -0.466391 -0.517404 -0.780666   \n",
       " 1.0 -2.910794  2.694040  2.630217 -0.131338  0.063741 -0.347703  0.228284   \n",
       " 1.0 -4.564450 -0.698087  1.384390 -0.533179 -0.562997  0.940303  0.520381   \n",
       " 1.0 -5.972111 -1.589313  1.180199 -0.272992  0.982570 -0.191797  0.080371   \n",
       " \n",
       "           PC8       PC9      PC10      PC11      PC12      PC13      PC14  \\\n",
       " 1.0  0.448435 -0.357407 -0.236814 -0.129129 -0.101998 -0.329864  0.005234   \n",
       " 1.0 -1.133838  0.094610 -0.006388  0.442281 -0.338699  0.050660  0.036479   \n",
       " 1.0  0.844944  0.426816 -0.033394 -0.172927  0.000361  0.416973  0.035066   \n",
       " 1.0 -0.214676  0.496433 -0.423517 -0.278527  0.408784  0.030664 -0.036634   \n",
       " 1.0 -0.074418 -0.096616  0.738052 -0.302255  0.086659  0.022402  0.181527   \n",
       " 1.0 -0.517165 -0.773446 -0.061495 -0.062383  0.115546  0.097806 -0.023283   \n",
       " 1.0  0.318090  0.098371 -0.132295  0.766484  0.059717  0.181227  0.005001   \n",
       " 1.0  0.044965 -0.343987  0.474877 -0.047921 -0.096589 -0.026479 -0.077527   \n",
       " 1.0  0.160979  0.225734  0.310036 -0.243193 -0.048422  0.083051 -0.093338   \n",
       " 1.0  0.630706 -0.223801 -0.469645 -0.071779 -0.208746 -0.112392 -0.013107   \n",
       " 1.0  0.765583 -0.027429  0.190180  0.068155  0.128584 -0.242373 -0.108759   \n",
       " 1.0 -0.444014  0.811890  0.037935  0.083622  0.114570 -0.298251  0.058263   \n",
       " 1.0 -0.657224 -0.376207  0.093008 -0.032729  0.398654  0.056907 -0.082935   \n",
       " 1.0 -0.317541 -0.424410  0.063284 -0.093198 -0.075659  0.098618  0.038610   \n",
       " 1.0  0.030005 -0.620673 -0.181834  0.335308  0.079245 -0.012360  0.038071   \n",
       " 1.0 -0.416127  0.461998  0.067761  0.350328  0.128223 -0.086928  0.023919   \n",
       " 1.0 -0.399567  0.334676 -0.191511 -0.197158 -0.272517  0.132248 -0.156786   \n",
       " 1.0  0.645372  0.268061  0.493650  0.081015 -0.218016 -0.060605 -0.031457   \n",
       " 1.0 -0.909127  0.077945 -0.376349 -0.458582 -0.192107 -0.043965  0.085264   \n",
       " 1.0  1.194620 -0.052557 -0.355542 -0.037414  0.032410  0.042662  0.116393   \n",
       " \n",
       "          PC15      PC16      PC17          PC18          PC19          PC20  \n",
       " 1.0  0.001397  0.008118 -0.000054 -2.108396e-15 -7.297532e-16 -1.282899e-15  \n",
       " 1.0  0.028820 -0.006931 -0.000197 -2.522600e-16  4.435934e-16 -7.940389e-16  \n",
       " 1.0 -0.030740 -0.018830  0.001434 -5.687065e-16  7.130082e-16 -1.010315e-15  \n",
       " 1.0  0.005791  0.033723 -0.000529 -8.252403e-16 -2.314390e-18 -1.870731e-16  \n",
       " 1.0 -0.057215  0.012673 -0.000546  6.337046e-17  4.422731e-16 -5.867113e-16  \n",
       " 1.0  0.019467  0.002515 -0.002371  8.284096e-17  1.514519e-16 -6.815392e-16  \n",
       " 1.0 -0.024823 -0.014089 -0.001061 -8.926187e-17 -5.524542e-17 -7.118870e-17  \n",
       " 1.0  0.039438 -0.024066  0.002474 -4.972301e-17  2.605365e-16 -2.594295e-17  \n",
       " 1.0  0.116646  0.023445  0.000150  2.789391e-16 -3.507774e-17 -9.927420e-17  \n",
       " 1.0 -0.034571 -0.010288  0.000292 -1.319379e-16 -1.977297e-16  5.180138e-16  \n",
       " 1.0 -0.058634 -0.017722 -0.000300  6.760715e-17 -1.402752e-16 -3.866978e-16  \n",
       " 1.0  0.053043 -0.032538 -0.000361  1.351413e-16  3.718115e-17  5.374047e-16  \n",
       " 1.0 -0.022510 -0.035485  0.000415  5.414515e-16 -3.212429e-16  1.221786e-16  \n",
       " 1.0  0.026417 -0.007689 -0.000894  2.009970e-16  4.677460e-17  5.881136e-16  \n",
       " 1.0  0.002698  0.048252  0.002102  1.729717e-16  1.554613e-17  3.422615e-16  \n",
       " 1.0 -0.023331  0.026963  0.001399  8.734745e-16 -1.470317e-16  2.204862e-16  \n",
       " 1.0 -0.043072  0.011162 -0.000564  8.998650e-16 -4.831329e-16  2.247030e-16  \n",
       " 1.0 -0.030788  0.025117 -0.001610  4.852807e-16  2.945963e-16  7.942080e-16  \n",
       " 1.0 -0.043230 -0.010751  0.000782  7.708906e-16 -3.764492e-16  7.595763e-16  \n",
       " 1.0  0.075196 -0.013579 -0.000561  4.750583e-16  2.427138e-16  4.239578e-16  ,\n",
       " 'explained_var': array([0.63459314, 0.73526971, 0.81277809, 0.87020973, 0.90825398,\n",
       "        0.93676694, 0.96107066, 0.9794869 , 0.98742405, 0.9923769 ,\n",
       "        0.99633388, 0.99820559, 0.99956212, 0.99987299, 0.99997491,\n",
       "        0.99999993, 1.        , 1.        , 1.        , 1.        ]),\n",
       " 'variance_ratio': array([6.34593137e-01, 1.00676575e-01, 7.75083765e-02, 5.74316446e-02,\n",
       "        3.80442505e-02, 2.85129591e-02, 2.43037159e-02, 1.84162404e-02,\n",
       "        7.93715476e-03, 4.95284798e-03, 3.95698226e-03, 1.87170761e-03,\n",
       "        1.35653144e-03, 3.10863203e-04, 1.01926703e-04, 2.50190962e-05,\n",
       "        6.76392623e-08, 0.00000000e+00, 0.00000000e+00, 0.00000000e+00]),\n",
       " 'model': PCA(n_components=20),\n",
       " 'scaler': None,\n",
       " 'pcp': 1.0000000000000004,\n",
       " 'topfeat':       PC                           feature   loading  type\n",
       " 0    PC1                            Points  0.278329  best\n",
       " 1    PC2                             Draws  0.488837  best\n",
       " 2    PC3            sum.offside.in.defense  0.597423  best\n",
       " 3    PC4                    Goals.conceded -0.474976  best\n",
       " 4    PC5   shots.on.goal.per.match.average -0.646283  best\n",
       " 5    PC6                         red.cards  0.666595  best\n",
       " 6    PC7                      yellow.cards  0.445283  best\n",
       " 7    PC8   shots.on.goal.per.match.average  0.559923  best\n",
       " 8    PC9           clean.sheets.percentage  0.645509  best\n",
       " 9   PC10        failed.to.score.percentage -0.664844  best\n",
       " 10  PC11           shots.per.match.average  0.485594  best\n",
       " 11  PC12             sum.offside.in.attack  0.639673  best\n",
       " 12  PC13                     fouls.for.sum -0.696263  best\n",
       " 13  PC14          corners.per.game.average  0.494995  best\n",
       " 14  PC15  ball.possession.per.game.average  0.845987  best\n",
       " 15  PC16          corners.per.game.average  0.608588  best\n",
       " 16  PC17                   Points.per.game -0.851786  best\n",
       " 17  PC18                            Points  0.760682  best\n",
       " 18  PC19                             Loses  0.702393  best\n",
       " 19  PC20                  Difference.goals  0.697542  best\n",
       " 20  PC18                              Wins -0.629319  weak\n",
       " 21  PC20                      Goals.scored -0.516977  weak\n",
       " 22   PC5                 fouls.against.sum  0.505110  weak,\n",
       " 'outliers':            y_proba      y_score  y_bool  y_bool_spe  y_score_spe\n",
       " 1.0  1.339959e-267  1399.292213    True        True     9.153214\n",
       " 1.0   2.269505e-01    46.347239   False       False     5.264547\n",
       " 1.0   4.409682e-01    40.665476   False       False     5.302706\n",
       " 1.0   7.040553e-01    34.776451   False       False     4.178286\n",
       " 1.0   9.996037e-01    16.588212   False       False     1.943516\n",
       " 1.0   9.996086e-01    16.571249   False       False     0.916554\n",
       " 1.0   9.999181e-01    14.657836   False       False     0.884905\n",
       " 1.0   9.998872e-01    15.021647   False       False     1.050853\n",
       " 1.0   9.999664e-01    13.715548   False       False     1.138278\n",
       " 1.0   8.160346e-01    31.891113   False       False     2.883558\n",
       " 1.0   9.901570e-01    22.128797   False       False     2.341581\n",
       " 1.0   9.997782e-01    15.834084   False       False     1.165389\n",
       " 1.0   9.868307e-01    22.799747   False       False     1.571636\n",
       " 1.0   9.910739e-01    21.912062   False       False     2.706555\n",
       " 1.0   9.972571e-01    19.581144   False       False     2.846581\n",
       " 1.0   9.911421e-01    21.895235   False       False     2.566744\n",
       " 1.0   9.259827e-01    27.876862   False       False     3.787759\n",
       " 1.0   6.712887e-01    35.537290   False        True     3.966179\n",
       " 1.0   5.115765e-01    39.078855   False       False     4.617524\n",
       " 1.0   6.441998e-02    54.364155   False       False     6.179970,\n",
       " 'outliers_params': {'paramT2': (0.0, 1.0000000000000002),\n",
       "  'paramSPE': (array([-6.66133815e-16,  2.22044605e-17]),\n",
       "   array([[1.33598555e+01, 9.15350669e-14],\n",
       "          [9.15350669e-14, 2.11950684e+00]]))}}"
      ]
     },
     "execution_count": 71,
     "metadata": {},
     "output_type": "execute_result"
    }
   ],
   "source": [
    "results"
   ]
  },
  {
   "cell_type": "code",
   "execution_count": 77,
   "id": "ff5750a1",
   "metadata": {
    "scrolled": true
   },
   "outputs": [
    {
     "name": "stdout",
     "output_type": "stream",
     "text": [
      "          PC1       PC2\n",
      "1.0  9.035956 -1.460423\n",
      "1.0  5.245588 -0.446384\n",
      "1.0  5.298776  0.204114\n",
      "1.0  3.853752  1.614519\n",
      "1.0  1.599774 -1.103620\n",
      "1.0  0.872143 -0.281849\n",
      "1.0  0.630255 -0.621157\n",
      "1.0  0.397094  0.972937\n",
      "1.0  0.136131 -1.130109\n",
      "1.0  0.313183  2.866500\n",
      "1.0 -1.214550 -2.001967\n",
      "1.0 -0.723872  0.913313\n",
      "1.0 -1.512639  0.426570\n",
      "1.0 -1.873157  1.953644\n",
      "1.0 -2.843716  0.127685\n",
      "1.0 -2.519142 -0.492035\n",
      "1.0 -3.248221 -1.948378\n",
      "1.0 -2.910794  2.694040\n",
      "1.0 -4.564450 -0.698087\n",
      "1.0 -5.972111 -1.589313\n"
     ]
    }
   ],
   "source": [
    "print( pd.DataFrame(results['PC'][['PC1', 'PC2']]))"
   ]
  },
  {
   "cell_type": "code",
   "execution_count": 81,
   "id": "ccb229df",
   "metadata": {},
   "outputs": [
    {
     "name": "stdout",
     "output_type": "stream",
     "text": [
      "KMeans(n_clusters=3, n_init=20, random_state=300)\n",
      "[2 2 2 2 0 0 0 0 0 0 0 0 0 0 1 1 1 1 1 1]\n"
     ]
    }
   ],
   "source": [
    "km.ligue1.pca = KMeans(n_clusters=3, n_init=20, random_state=300)\n",
    "\n",
    "km.ligue1.pca = km.ligue1.pca.fit( pd.DataFrame(results['PC'][['PC1', 'PC2']] ))\n",
    "\n",
    "print(km.ligue1.pca)\n",
    "print(km.ligue1.pca.labels_)"
   ]
  },
  {
   "cell_type": "code",
   "execution_count": 87,
   "id": "88fe2582",
   "metadata": {},
   "outputs": [
    {
     "data": {
      "text/plain": [
       "<matplotlib.legend.Legend at 0x1a359acd520>"
      ]
     },
     "execution_count": 87,
     "metadata": {},
     "output_type": "execute_result"
    },
    {
     "data": {
      "image/png": "[encoded data removed]",
      "text/plain": [
       "<Figure size 432x288 with 1 Axes>"
      ]
     },
     "metadata": {
      "needs_background": "light"
     },
     "output_type": "display_data"
    }
   ],
   "source": [
    "sns.scatterplot(data = pd.DataFrame(results['PC'][['PC1', 'PC2']]), \n",
    "                x='PC1', y='PC2', \n",
    "                hue = km.ligue1.pca.predict(pd.DataFrame(results['PC'][['PC1', 'PC2']])))\n",
    "\n",
    "plt.scatter(km.ligue1.pca.cluster_centers_[:,0], km.ligue1.pca.cluster_centers_[:,1], marker=\"X\", c=\"r\", s=80, label=\"centroids\")\n",
    "\n",
    "\n",
    "plt.legend()"
   ]
  },
  {
   "cell_type": "code",
   "execution_count": null,
   "id": "c5b8e43d",
   "metadata": {},
   "outputs": [],
   "source": []
  }
 ],
 "metadata": {
  "kernelspec": {
   "display_name": "Python 3",
   "language": "python",
   "name": "python3"
  },
  "language_info": {
   "codemirror_mode": {
    "name": "ipython",
    "version": 3
   },
   "file_extension": ".py",
   "mimetype": "text/x-python",
   "name": "python",
   "nbconvert_exporter": "python",
   "pygments_lexer": "ipython3",
   "version": "3.8.8"
  }
 },
 "nbformat": 4,
 "nbformat_minor": 5
}
